{
 "cells": [
  {
   "cell_type": "markdown",
   "id": "64cec35f",
   "metadata": {},
   "source": [
    "# ⏱️ Zwei-Spieler – Restspieldauer bei synchroner Reaktion auf Würfe\n",
    "In diesem Modell reagieren **beide Spieler gleichzeitig** auf ein gemeinsames Würfelergebnis.\n",
    "Pro Runde wird **genau einmal gewürfelt**, und jeder Spieler entfernt (falls möglich) einen Chip vom gewürfelten Feld. Das Spiel endet, wenn:\n",
    "\n",
    "- Spieler A **oder** Spieler B **keine Chips mehr** hat,\n",
    "- oder **beide Spieler dieselbe Chipverteilung** haben.\n",
    "\n",
    "Wir berechnen den Erwartungswert der verbleibenden Spielrunden: $E(U, V)$"
   ]
  },
  {
   "cell_type": "markdown",
   "id": "1d22a281",
   "metadata": {},
   "source": [
    "## 🧮 Rekursive Formel für $E(U, V)$\n",
    "Die rekursive Berechnung erfolgt nach folgender Formel:\n",
    "\n",
    "$$\n",
    "E(U, V) = \n",
    "\\begin{cases}\n",
    "0, & \\text{falls } \\sum U = 0 \\text{ oder } \\sum V = 0 \\text{ oder } U = V \\\\\n",
    "\\frac{1}{s} + \\sum\\limits_{j=1}^m \\frac{p_j}{s} \\cdot  \\mathbb{1}(u_j+v_j \\ge 0) \\cdot  E(U_j, V_j), & \\text{sonst}\n",
    "\\end{cases}\n",
    "$$\n",
    "\n",
    "**Dabei gilt:**\n",
    "- $s = \\sum p_j \\cdot \\mathbb{1}(u_j+v_j \\ge 0)$ ist die Gesamtwahrscheinlichkeit\n",
    "- $U_j, V_j$ sind die Zustände nach Abziehen eines Chips (falls vorhanden) auf Feld $j$"
   ]
  },
  {
   "cell_type": "markdown",
   "id": "be1bddca",
   "metadata": {},
   "source": [
    "## ⚙️ Setup"
   ]
  },
  {
   "cell_type": "code",
   "execution_count": 82,
   "id": "950e94d2",
   "metadata": {},
   "outputs": [],
   "source": [
    "from fractions import Fraction\n",
    "from functools import lru_cache"
   ]
  },
  {
   "cell_type": "markdown",
   "id": "1a92e7af",
   "metadata": {},
   "source": [
    "## 🎯 Wahrscheinlichkeiten und Startverteilungen"
   ]
  },
  {
   "cell_type": "code",
   "execution_count": 84,
   "id": "cd3af550",
   "metadata": {},
   "outputs": [],
   "source": [
    "p = (Fraction(1, 2), Fraction(1, 3), Fraction(1, 6))\n",
    "U = (4, 2, 0)\n",
    "V = (3, 2, 1)"
   ]
  },
  {
   "cell_type": "markdown",
   "id": "9ea582b2",
   "metadata": {},
   "source": [
    "## 🔧 Hilfsfunktionen"
   ]
  },
  {
   "cell_type": "code",
   "execution_count": 86,
   "id": "845c9282",
   "metadata": {},
   "outputs": [],
   "source": [
    "def is_terminal(u, v):\n",
    "    return sum(u) == 0 or sum(v) == 0 or u == v\n",
    "\n",
    "def next_state_pair(u, v, index):\n",
    "    u_new = list(u)\n",
    "    v_new = list(v)\n",
    "    if u[index] > 0:\n",
    "        u_new[index] -= 1\n",
    "    if v[index] > 0:\n",
    "        v_new[index] -= 1\n",
    "    return tuple(u_new), tuple(v_new)"
   ]
  },
  {
   "cell_type": "markdown",
   "id": "41866645",
   "metadata": {},
   "source": [
    "## 🔁 Erwartungswert-Berechnung E(U, V)"
   ]
  },
  {
   "cell_type": "code",
   "execution_count": 88,
   "id": "3497c863",
   "metadata": {},
   "outputs": [],
   "source": [
    "@lru_cache(None)\n",
    "def E(U, V):\n",
    "    if is_terminal(U, V):\n",
    "        return Fraction(0)\n",
    "\n",
    "    total = sum(p[i] for i in range(len(U)) if U[i] > 0 or V[i] > 0)\n",
    "    res = Fraction(1, total)\n",
    "\n",
    "    for i in range(len(U)):\n",
    "        if U[i] > 0 or V[i] > 0:\n",
    "            u_new, v_new = next_state_pair(U, V, i)\n",
    "            res += (p[i] / total) * E(u_new, v_new)\n",
    "\n",
    "    return res"
   ]
  },
  {
   "cell_type": "markdown",
   "id": "da1157ef",
   "metadata": {},
   "source": [
    "## 📊 Beispielauswertung"
   ]
  },
  {
   "cell_type": "code",
   "execution_count": 90,
   "id": "28459b9c",
   "metadata": {},
   "outputs": [
    {
     "name": "stdout",
     "output_type": "stream",
     "text": [
      "E((4, 2, 0), (3, 2, 1)) = 8868079/1200000 (7.3901)\n"
     ]
    }
   ],
   "source": [
    "ev = E(U, V)\n",
    "print(f\"E({U}, {V}) = {ev} ({float(ev):.5})\")"
   ]
  },
  {
   "cell_type": "markdown",
   "id": "3e8ad88d",
   "metadata": {},
   "source": [
    "## 🔁 Vergleich: Feste Strategie U vs. alle möglichen Gegenspieler V"
   ]
  },
  {
   "cell_type": "code",
   "execution_count": 92,
   "id": "f5b4748e",
   "metadata": {},
   "outputs": [
    {
     "name": "stdout",
     "output_type": "stream",
     "text": [
      "Top 5 Strategien gegen (4, 2, 0) (längste Restspielzeit):\n",
      "E((4, 2, 0), (0, 0, 6)) = 6201485/663552 (9.3459)\n",
      "E((4, 2, 0), (0, 1, 5)) = 73772645/7962624 (9.2649)\n",
      "E((4, 2, 0), (1, 0, 5)) = 73689893/7962624 (9.2545)\n",
      "E((4, 2, 0), (1, 1, 4)) = 7511017/829440 (9.0555)\n",
      "E((4, 2, 0), (0, 6, 0)) = 17686494/1953125 (9.0555)\n"
     ]
    }
   ],
   "source": [
    "from itertools import combinations_with_replacement\n",
    "\n",
    "def all_distributions(n, m):\n",
    "    raw = combinations_with_replacement(range(m), n)\n",
    "    for comb in raw:\n",
    "        counts = [0] * m\n",
    "        for i in comb:\n",
    "            counts[i] += 1\n",
    "        yield tuple(counts)\n",
    "\n",
    "results = []\n",
    "for V_test in all_distributions(sum(U), len(U)):\n",
    "    ev = E(U, V_test)\n",
    "    results.append((V_test, ev))\n",
    "\n",
    "results.sort(key=lambda x: x[1], reverse=True)  # Längste Restdauer zuerst\n",
    "\n",
    "print(f\"Top 5 Strategien gegen {U} (längste Restspielzeit):\")\n",
    "for Vx, ev in results[:5]:\n",
    "    print(f\"E({U}, {Vx}) = {ev} ({float(ev):.5})\")"
   ]
  },
  {
   "cell_type": "code",
   "execution_count": null,
   "id": "1574072c-62c2-4237-9d78-d776354d8112",
   "metadata": {},
   "outputs": [],
   "source": []
  }
 ],
 "metadata": {
  "kernelspec": {
   "display_name": "Python 3 (ipykernel)",
   "language": "python",
   "name": "python3"
  },
  "language_info": {
   "codemirror_mode": {
    "name": "ipython",
    "version": 3
   },
   "file_extension": ".py",
   "mimetype": "text/x-python",
   "name": "python",
   "nbconvert_exporter": "python",
   "pygments_lexer": "ipython3",
   "version": "3.9.7"
  }
 },
 "nbformat": 4,
 "nbformat_minor": 5
}
