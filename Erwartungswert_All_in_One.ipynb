{
 "cells": [
  {
   "cell_type": "markdown",
   "id": "46b18879",
   "metadata": {},
   "source": [
    "# 🧠 Erwartungswerte E(V) – Alles in einem Notebook\n",
    "Dieses Notebook vereint **Modellbildung**, **Rekursion**, **Analyse aller Strategien**, **Visualisierung** und **Exportmöglichkeiten** in einem durchgehenden Format. Ideal für Unterricht, Selbststudium und Fortbildung."
   ]
  },
  {
   "cell_type": "markdown",
   "id": "94fcbdad",
   "metadata": {},
   "source": [
    "## 🧮 Modellidee\n",
    "Für eine Spielsituation $V = (v_1, \\dots, v_m)$ gibt die rekursive Formel den Erwartungswert der verbleibenden Spielrunden an, um alle Chips abzuräumen:\n",
    "\n",
    "$$\n",
    "E(V) = \n",
    "\\begin{cases}\n",
    "0, & \\text{falls } V = (0,\\dots,0) \\\\\n",
    "\\frac{1}{s} + \\sum_{j=1}^{m} \\frac{p_j}{s} \\cdot \\mathbb{1}(v_j \\ge 1) \\cdot E(V_j), & \\text{sonst}\n",
    "\\end{cases}\n",
    "$$\n",
    "\n",
    "**Dabei gilt:**\n",
    "- $s = \\sum\\limits_{j=1}^{m} p_j \\cdot \\mathbb{1}(v_j \\ge 1)$ ist die Gesamtwahrscheinlichkeit, ein besetztes Feld zu treffen  \n",
    "- $V_j = (v_1, \\dots, v_j - 1, \\dots, v_m)$ ist die Spielsituation nach einem Treffer auf Feld $j$"
   ]
  },
  {
   "cell_type": "markdown",
   "id": "448df5a4",
   "metadata": {},
   "source": [
    "## ⚙️ Setup"
   ]
  },
  {
   "cell_type": "code",
   "execution_count": null,
   "id": "e5c641a7",
   "metadata": {},
   "outputs": [],
   "source": [
    "from fractions import Fraction\n",
    "from functools import lru_cache"
   ]
  },
  {
   "cell_type": "markdown",
   "id": "b4a5ca7f",
   "metadata": {},
   "source": [
    "## 🎯 Wahrscheinlichkeiten und Startzustand"
   ]
  },
  {
   "cell_type": "code",
   "execution_count": null,
   "id": "878b756e",
   "metadata": {},
   "outputs": [],
   "source": [
    "p = (Fraction(1, 2), Fraction(1, 3), Fraction(1, 6))\n",
    "S = (3, 2, 1)"
   ]
  },
  {
   "cell_type": "markdown",
   "id": "ae198d9f",
   "metadata": {},
   "source": [
    "## 🔧 Hilfsfunktionen"
   ]
  },
  {
   "cell_type": "code",
   "execution_count": null,
   "id": "bc15b84c",
   "metadata": {},
   "outputs": [],
   "source": [
    "def is_terminal(state):\n",
    "    return all(v == 0 for v in state)\n",
    "\n",
    "def next_state(state, index):\n",
    "    return state[:index] + (state[index] - 1,) + state[index + 1:]"
   ]
  },
  {
   "cell_type": "markdown",
   "id": "6529295b",
   "metadata": {},
   "source": [
    "## 🔁 Zentrale rekursive Funktion"
   ]
  },
  {
   "cell_type": "code",
   "execution_count": null,
   "id": "34cb270e",
   "metadata": {},
   "outputs": [],
   "source": [
    "@lru_cache(maxsize=None)\n",
    "def E(state):\n",
    "    if is_terminal(state):\n",
    "        return Fraction(0)\n",
    "    s = sum(p[i] for i in range(len(state)) if state[i] > 0)\n",
    "    res = Fraction(1, s)\n",
    "    for i in range(len(state)):\n",
    "        if state[i] > 0:\n",
    "            res += (p[i] / s) * E(next_state(state, i))\n",
    "    return res"
   ]
  },
  {
   "cell_type": "markdown",
   "id": "6c4a38f5",
   "metadata": {},
   "source": [
    "## 📊 Beispielauswertung"
   ]
  },
  {
   "cell_type": "code",
   "execution_count": null,
   "id": "daa0dd13",
   "metadata": {},
   "outputs": [],
   "source": [
    "EX = E(S)\n",
    "print(f\"E({S}) = {EX} ({float(EX):.5})\")"
   ]
  },
  {
   "cell_type": "markdown",
   "id": "f1b94f59",
   "metadata": {},
   "source": [
    "## 🧪 Alle Strategien analysieren"
   ]
  },
  {
   "cell_type": "code",
   "execution_count": null,
   "id": "c726e4c9",
   "metadata": {},
   "outputs": [],
   "source": [
    "from itertools import combinations_with_replacement\n",
    "\n",
    "def all_distributions(n, m):\n",
    "    raw = combinations_with_replacement(range(m), n)\n",
    "    for comb in raw:\n",
    "        counts = [0] * m\n",
    "        for i in comb:\n",
    "            counts[i] += 1\n",
    "        yield tuple(counts)\n",
    "\n",
    "results = []\n",
    "for strat in all_distributions(sum(S), len(S)):\n",
    "    ev = E(strat)\n",
    "    results.append((strat, ev))\n",
    "\n",
    "results.sort(key=lambda x: x[1])\n",
    "for s, ev in results[:5]:\n",
    "    print(f\"E({s}) = {ev} ({float(ev):.3f})\")"
   ]
  },
  {
   "cell_type": "markdown",
   "id": "02534362",
   "metadata": {},
   "source": [
    "## 📈 Visualisierung aller Strategien"
   ]
  },
  {
   "cell_type": "code",
   "execution_count": null,
   "id": "032f4baa",
   "metadata": {},
   "outputs": [],
   "source": [
    "import matplotlib.pyplot as plt\n",
    "from matplotlib.ticker import MultipleLocator\n",
    "\n",
    "states = [s for s, _ in results]\n",
    "values = [float(ev) for _, ev in results]\n",
    "\n",
    "plt.figure(figsize=(12, 5))\n",
    "bars = plt.bar(range(len(values)), values, color='skyblue', width=0.8)\n",
    "\n",
    "ax = plt.gca()\n",
    "if len(states) <= 30:\n",
    "    ax.set_xticks(range(len(states)))\n",
    "    ax.set_xticklabels([str(s) for s in states], rotation=90, fontsize=9)\n",
    "else:\n",
    "    ax.xaxis.set_major_locator(MultipleLocator(int(len(states)/20)))\n",
    "    ax.set_xticklabels([])\n",
    "\n",
    "plt.xlabel(\"Strategien\", fontsize=12)\n",
    "plt.ylabel(\"E(V)\", fontsize=12)\n",
    "plt.title(f\"Erwartungswerte für {sum(S)} Chips auf {len(S)} Feldern\", fontsize=14)\n",
    "plt.tight_layout()\n",
    "# plt.savefig(\"strategien_plot.png\", dpi=300, bbox_inches='tight')  # Optionaler Export\n",
    "plt.show()"
   ]
  }
 ],
 "metadata": {},
 "nbformat": 4,
 "nbformat_minor": 5
}
